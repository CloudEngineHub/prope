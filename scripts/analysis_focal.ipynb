{
 "cells": [
  {
   "cell_type": "code",
   "execution_count": 2,
   "metadata": {},
   "outputs": [],
   "source": [
    "import os\n",
    "import json\n",
    "import numpy as np\n"
   ]
  },
  {
   "cell_type": "code",
   "execution_count": null,
   "metadata": {},
   "outputs": [],
   "source": [
    "import tabulate\n",
    "from collections import OrderedDict\n",
    "\n",
    "experiments = {\n",
    "    \"plucker\": \"release-2gpus-b8-s1-80k-plucker-none\",\n",
    "    \"gta\": \"release-2gpus-b8-s1-80k-none-gta\",\n",
    "    \"prope\": \"release-2gpus-b8-s1-80k-none-prope\",\n",
    "}\n",
    "\n",
    "variations = {\n",
    "    \"zoom1x\": \"eval-zoom1x\",\n",
    "    \"zoom3x\": \"eval-zoom3x\",\n",
    "    \"zoom5x\": \"eval-zoom5x\",\n",
    "}\n",
    "\n",
    "psnrs = {k: [] for k in experiments.keys()}\n",
    "ssims = {k: [] for k in experiments.keys()}\n",
    "lpipses = {k: [] for k in experiments.keys()}\n",
    "\n",
    "for exp_name, exp_dir in experiments.items():\n",
    "    for variation_name, variation_dir in variations.items():\n",
    "        fp = os.path.join(\"../results\", exp_dir, variation_dir, \"metrics.json\")\n",
    "        assert os.path.exists(fp)\n",
    "        with open(fp, \"r\") as f:\n",
    "            metrics = json.load(f)\n",
    "            psnrs[exp_name].append(metrics[\"psnr\"])\n",
    "            ssims[exp_name].append(metrics[\"ssim\"])\n",
    "            lpipses[exp_name].append(metrics[\"lpips\"])\n",
    "\n",
    "data = OrderedDict()\n",
    "data[\"PSNR\"] = list(variations.keys())\n",
    "data.update({k: v for k, v in psnrs.items()})\n",
    "print(tabulate.tabulate(data, headers=\"keys\", tablefmt=\"grid\"))"
   ]
  },
  {
   "cell_type": "code",
   "execution_count": null,
   "metadata": {},
   "outputs": [],
   "source": [
    "import pandas as pd\n",
    "import matplotlib.pyplot as plt\n",
    "\n",
    "plt.figure(figsize=(20, 4))\n",
    "plt.rcParams.update({'font.size': 16})\n",
    "plt.rcParams['font.family'] = 'sans-serif'\n",
    "\n",
    "zoom_factors = list(variations.keys())\n",
    "\n",
    "for imetric, metric in enumerate([\"psnr\", \"ssim\", \"lpips\"]):\n",
    "    if metric == \"psnr\":\n",
    "        data = psnrs\n",
    "    elif metric == \"ssim\":\n",
    "        data = ssims\n",
    "    elif metric == \"lpips\":\n",
    "        data = lpipses\n",
    "    df = pd.DataFrame(data, index=zoom_factors)\n",
    "\n",
    "    plt.subplot(1, 3, imetric + 1)\n",
    "    colors = plt.cm.brg(np.linspace(0, 0.85, len(df.columns)))  # not bad\n",
    "    colors = colors[::-1]\n",
    "    for i, col in enumerate(df.columns):\n",
    "        plt.plot(df.index, df[col], marker=\"o\", label=col, color=colors[i % len(colors)])    \n",
    "    plt.ylabel(metric.upper() + \"↓\" if metric == \"lpips\" else metric.upper() + \"↑\")\n",
    "    plt.xticks(zoom_factors)\n",
    "    plt.grid(True, axis=\"both\", alpha=0.3)\n",
    "    plt.gca().spines[\"top\"].set_visible(False)\n",
    "    plt.gca().spines[\"right\"].set_visible(False)\n",
    "\n",
    "plt.tight_layout()\n",
    "plt.legend(bbox_to_anchor=(-0.7, +1.20), loc=\"upper center\", ncol=len(df.columns))\n",
    "plt.show()\n",
    "# plt.savefig(\"../figures/analysis_focal.png\")"
   ]
  },
  {
   "cell_type": "code",
   "execution_count": null,
   "metadata": {},
   "outputs": [],
   "source": []
  }
 ],
 "metadata": {
  "kernelspec": {
   "display_name": "prope",
   "language": "python",
   "name": "python3"
  },
  "language_info": {
   "codemirror_mode": {
    "name": "ipython",
    "version": 3
   },
   "file_extension": ".py",
   "mimetype": "text/x-python",
   "name": "python",
   "nbconvert_exporter": "python",
   "pygments_lexer": "ipython3",
   "version": "3.10.18"
  }
 },
 "nbformat": 4,
 "nbformat_minor": 2
}
